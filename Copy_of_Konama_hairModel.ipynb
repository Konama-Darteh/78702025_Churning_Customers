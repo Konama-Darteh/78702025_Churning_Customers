{
  "nbformat": 4,
  "nbformat_minor": 0,
  "metadata": {
    "colab": {
      "provenance": [],
      "authorship_tag": "ABX9TyMDWPz4+EvzlAfA5beqgod+",
      "include_colab_link": true
    },
    "kernelspec": {
      "name": "python3",
      "display_name": "Python 3"
    },
    "language_info": {
      "name": "python"
    }
  },
  "cells": [
    {
      "cell_type": "markdown",
      "metadata": {
        "id": "view-in-github",
        "colab_type": "text"
      },
      "source": [
        "<a href=\"https://colab.research.google.com/github/Konama-Darteh/78702025_Churning_Customers/blob/main/Copy_of_Konama_hairModel.ipynb\" target=\"_parent\"><img src=\"https://colab.research.google.com/assets/colab-badge.svg\" alt=\"Open In Colab\"/></a>"
      ]
    },
    {
      "cell_type": "code",
      "execution_count": 3,
      "metadata": {
        "id": "xN1Yi61jG7ay"
      },
      "outputs": [],
      "source": [
        "# Import necessary libraries\n",
        "import pandas as pd\n",
        "import numpy as np\n",
        "import tensorflow as tf\n",
        "from tensorflow.keras.models import Sequential\n",
        "from tensorflow.keras.layers import Conv2D, MaxPooling2D, Flatten, Dense, Dropout\n",
        "from tensorflow.keras.optimizers import Adam\n",
        "from tensorflow.keras.preprocessing.image import ImageDataGenerator\n",
        "from tensorflow.keras.utils import to_categorical\n",
        "from tensorflow.keras.preprocessing.image import load_img, img_to_array\n",
        "from sklearn.model_selection import train_test_split\n",
        "from tensorflow.keras.models import load_model\n",
        "\n",
        "\n",
        "\n"
      ]
    },
    {
      "cell_type": "code",
      "source": [
        "# For saving the model\n",
        "import pickle\n",
        "from google.colab import drive\n",
        "drive.mount('/content/drive')"
      ],
      "metadata": {
        "id": "zdTnzcNnH1_h",
        "colab": {
          "base_uri": "https://localhost:8080/"
        },
        "outputId": "d5467f2f-1292-4544-dca4-e7ef0a3ebddb"
      },
      "execution_count": 4,
      "outputs": [
        {
          "output_type": "stream",
          "name": "stdout",
          "text": [
            "Mounted at /content/drive\n"
          ]
        }
      ]
    },
    {
      "cell_type": "code",
      "source": [
        "# Paths for the training and testing datasets\n",
        "TRAIN_DIR = '/content/drive/MyDrive/Figaro-1k/Original/Training'\n",
        "TEST_DIR = '/content/drive/MyDrive/Figaro-1k/Original/Testing'\n"
      ],
      "metadata": {
        "id": "bukBultmHz57"
      },
      "execution_count": 5,
      "outputs": []
    },
    {
      "cell_type": "code",
      "source": [
        "import os\n",
        "\n",
        "print(os.listdir('/content/drive/MyDrive/Figaro-1k/Original/Training'))\n"
      ],
      "metadata": {
        "id": "a4IB3lQHT25E",
        "outputId": "12e2b78a-1bea-4322-a15c-c0965786bebd",
        "colab": {
          "base_uri": "https://localhost:8080/"
        }
      },
      "execution_count": 6,
      "outputs": [
        {
          "output_type": "stream",
          "name": "stdout",
          "text": [
            "['Frame00527-org.jpg', 'Frame00121-org.jpg', 'Frame00362-org.jpg', 'Frame00372-org.jpg', 'Frame00188-org.jpg', 'kinky-03.jpg', 'Frame00049-org.jpg', 'Frame00460-org.jpg', 'Frame00257-org.jpg', 'Frame00412-org.jpg', 'Frame01002-org.jpg', 'Frame00143-org.jpg', 'Frame00863-org.jpg', 'Frame00131-org.jpg', 'Frame00198-org.jpg', 'Frame00739-org.jpg', 'Frame00225-org.jpg', 'Frame00402-org.jpg', 'Frame00386-org.jpg', 'Frame00014-org.jpg', 'Frame00811-org.jpg', 'Frame00764-org.jpg', 'Frame00706-org.jpg', 'Frame01012-org.jpg', 'Frame00924-org.jpg', 'Frame00774-org.jpg', 'Frame00396-org.jpg', 'Frame00979-org.jpg', 'Frame00082-org.jpg', 'Frame00651-org.jpg', 'Frame00092-org.jpg', 'Frame00641-org.jpg', 'Frame00059-org.jpg', 'striaght-04.jpg', 'Frame00508-org.jpg', 'Frame00873-org.jpg', 'Frame00235-org.jpg', 'Frame00537-org.jpg', 'Frame00716-org.jpg', 'Frame00693-org.jpg', 'Frame00300-org.jpg', 'Frame00677-org.jpg', 'Frame00484-org.jpg', 'Frame00066-org.jpg', 'Frame00181-org.jpg', 'Frame00494-org.jpg', 'Frame00076-org.jpg', 'Frame00615-org.jpg', 'Frame00934-org.jpg', 'Frame00790-org.jpg', 'Frame00326-org.jpg', 'Frame00545-org.jpg', 'Frame00268-org.jpg', 'Frame00780-org.jpg', 'Frame00818-org.jpg', 'Frame00887-org.jpg', 'curly-04.jpg', 'Frame00902-org.jpg', 'Frame00479-org.jpg', 'Frame00970-org.jpg', 'Frame00310-org.jpg', 'Frame00354-org.jpg', 'Frame00344-org.jpg', 'Frame00278-org.jpg', 'Frame00191-org.jpg', 'Frame00808-org.jpg', 'Frame00022-org.jpg', 'Frame00956-org.jpg', 'Frame00295-org.jpg', 'Frame00501-org.jpg', 'Frame00623-org.jpg', 'Frame00040-org.jpg', 'Frame00667-org.jpg', 'Frame00633-org.jpg', 'Frame00555-org.jpg', 'Frame00511-org.jpg', 'Frame00573-org.jpg', 'Frame00946-org.jpg', 'Frame01046-org.jpg', 'Frame00984-org.jpg', 'Frame00837-org.jpg', 'Frame00752-org.jpg', 'Frame00614-org.jpg', 'Frame00572-org.jpg', 'Frame00789-org.jpg', 'Frame00117-org.jpg', 'braid-02.jpg', 'Frame00845-org.jpg', 'Frame00434-org.jpg', 'short-striaght-01.jpg', 'Frame00994-org.jpg', 'Frame00424-org.jpg', 'Frame00041-org.jpg', 'Frame00597-org.jpg', 'Frame00190-org.jpg', 'locs-05.jpg', 'Frame00175-org.jpg', 'Frame00683-org.jpg', 'Frame00809-org.jpg', 'Frame00961-org.jpg', 'Frame00309-org.jpg', 'Frame00658-org.jpg', 'Frame00337-org.jpg', 'Frame00261-org.jpg', 'Frame00180-org.jpg', 'Frame00107-org.jpg', 'Frame01024-org.jpg', 'Frame00456-org.jpg', 'Frame00648-org.jpg', 'Frame00213-org.jpg', 'Frame00562-org.jpg', 'Frame00139-org.jpg', 'Frame00446-org.jpg', 'Frame00355-org.jpg', 'Frame00271-org.jpg', 'Frame00327-org.jpg', 'Frame00855-org.jpg', 'Frame00345-org.jpg', 'Frame00447-org.jpg', 'Frame00854-org.jpg', 'Frame00836-org.jpg', 'Frame00985-org.jpg', 'Frame00731-org.jpg', 'Frame00294-org.jpg', 'Frame00284-org.jpg', 'Frame01025-org.jpg', 'Frame00425-org.jpg', 'Frame00116-org.jpg', 'Frame00468-org.jpg', 'Frame00500-org.jpg', 'Frame00510-org.jpg', 'Frame00586-org.jpg', 'Frame00676-org.jpg', 'Frame00478-org.jpg', 'Frame00995-org.jpg', 'Frame00270-org.jpg', 'Frame00692-org.jpg', 'Frame00913-org.jpg', 'Frame01047-org.jpg', 'Frame00788-org.jpg', 'Frame00174-org.jpg', 'Frame00844-org.jpg', 'Frame00743-org.jpg', 'Frame00753-org.jpg', 'Frame00260-org.jpg', 'Frame00212-org.jpg', 'Frame00721-org.jpg', 'Frame00106-org.jpg', 'Frame00649-org.jpg', 'Frame00023-org.jpg', 'Frame00318-org.jpg', 'Frame01035-org.jpg', 'Frame00682-org.jpg', 'Frame00033-org.jpg', 'Frame00659-org.jpg', 'Frame00120-org.jpg', 'Frame00093-org.jpg', 'Frame00256-org.jpg', 'Frame01003-org.jpg', 'Frame00728-org.jpg', 'Frame00707-org.jpg', 'Frame00738-org.jpg', 'Frame00800-org.jpg', 'Frame00536-org.jpg', 'Frame00130-org.jpg', 'Frame00968-org.jpg', 'wavy-01.jpg', 'Frame00397-org.jpg', 'Frame00413-org.jpg', 'Frame00058-org.jpg', 'Frame00189-org.jpg', 'Frame00775-org.jpg', 'Frame00978-org.jpg', 'Frame00519-org.jpg', 'Frame00199-org.jpg', 'Frame00781-org.jpg', 'Frame00509-org.jpg', 'Frame00015-org.jpg', 'striaght-05.jpg', 'Frame00461-org.jpg', 'Frame00765-org.jpg', 'Frame00925-org.jpg', 'Frame00083-org.jpg', 'Frame00554-org.jpg', 'Frame00717-org.jpg', 'Frame00403-org.jpg', 'Frame00791-org.jpg', 'Frame00142-org.jpg', 'Frame00872-org.jpg', 'Frame00810-org.jpg', 'Frame00224-org.jpg', 'Frame00234-org.jpg', 'Frame00544-org.jpg', 'Frame00973-org.jpg', 'Frame00286-org.jpg', 'Frame00485-org.jpg', 'Frame00325-org.jpg', 'Frame00886-org.jpg', 'Frame00570-org.jpg', 'Frame00664-org.jpg', 'Frame00418-org.jpg', 'Frame00149-org.jpg', 'Frame00879-org.jpg', 'Frame00947-org.jpg', 'Frame00846-org.jpg', 'Frame00279-org.jpg', 'Frame00357-org.jpg', 'Frame00043-org.jpg', 'Frame00495-org.jpg', 'Frame00632-org.jpg', 'Frame00159-org.jpg', 'Frame01008-org.jpg', 'Frame00021-org.jpg', 'Frame00896-org.jpg', 'Frame00963-org.jpg', 'Frame00911-org.jpg', 'Frame00674-org.jpg', 'Frame00901-org.jpg', 'Frame00560-org.jpg', 'Frame00269-org.jpg', 'Frame00031-org.jpg', 'braid-03.jpg', 'Frame00301-org.jpg', 'Frame00088-org.jpg', 'short-striaght-04.jpg', 'Frame00311-org.jpg', 'Frame00296-org.jpg', 'short-striaght-02.jpg', 'Frame00077-org.jpg', 'Frame00335-org.jpg', 'Frame00502-org.jpg', 'Frame00192-org.jpg', 'Frame00957-org.jpg', 'Frame00378-org.jpg', 'Frame00254-org.jpg', 'Frame00733-org.jpg', 'Frame00210-org.jpg', 'Frame01001-org.jpg', 'Frame00132-org.jpg', 'Frame00385-org.jpg', 'Frame00028-org.jpg', 'Frame00427-org.jpg', 'Frame00723-org.jpg', 'Frame00987-org.jpg', 'Frame00176-org.jpg', 'Frame00639-org.jpg', 'Frame01045-org.jpg', 'Frame00411-org.jpg', 'Frame00104-org.jpg', 'Frame00705-org.jpg', 'Frame00150-org.jpg', 'Frame00038-org.jpg', 'Frame01027-org.jpg', 'Frame00140-org.jpg', 'Frame00122-org.jpg', 'Frame00445-org.jpg', 'kinky-04.jpg', 'Frame00200-org.jpg', 'Frame00751-org.jpg', 'Frame00166-org.jpg', 'Frame00395-org.jpg', 'Frame00824-org.jpg', 'Frame00272-org.jpg', 'Frame00629-org.jpg', 'Frame00834-org.jpg', 'Frame00569-org.jpg', 'Frame00812-org.jpg', 'Frame00473-org.jpg', 'Frame00368-org.jpg', 'Frame00777-org.jpg', 'Frame00437-org.jpg', 'Frame00244-org.jpg', 'Frame00690-org.jpg', 'Frame00918-org.jpg', 'Frame00226-org.jpg', 'Frame00400-org.jpg', 'Frame00758-org.jpg', 'Frame01011-org.jpg', 'Frame00556-org.jpg', 'Frame00209-org.jpg', 'Frame00081-org.jpg', 'Frame00927-org.jpg', 'Frame00945-org.jpg', 'Frame00620-org.jpg', 'Frame00908-org.jpg', 'Frame00630-org.jpg', 'Frame00065-org.jpg', 'Frame00219-org.jpg', 'Frame00689-org.jpg', 'Frame00091-org.jpg', 'Frame00487-org.jpg', 'Frame00568-org.jpg', 'Frame00870-org.jpg', 'Frame00894-org.jpg', 'Frame00652-org.jpg', 'Frame00007-org.jpg', 'Frame00410-org.jpg', 'Frame00236-org.jpg', 'Frame00546-org.jpg', 'Frame00497-org.jpg', 'Frame00313-org.jpg', 'Frame00937-org.jpg', 'Frame00017-org.jpg', 'Frame00783-org.jpg', 'Frame00075-org.jpg', 'Frame00860-org.jpg', 'Frame00371-org.jpg', 'Frame00793-org.jpg', 'Frame00748-org.jpg', 'Frame00578-org.jpg', 'Frame00255-org.jpg', 'Frame00884-org.jpg', 'Frame00955-org.jpg', 'Frame00237-org.jpg', 'Frame00557-org.jpg', 'Frame00141-org.jpg', 'Frame00039-org.jpg', 'Frame00384-org.jpg', 'Frame00462-org.jpg', 'Frame01000-org.jpg', 'Frame00704-org.jpg', 'Frame00486-org.jpg', 'Frame00472-org.jpg', 'Frame00074-org.jpg', 'Frame00698-org.jpg', 'curly-03.jpg', 'Frame00759-org.jpg', 'Frame00688-org.jpg', 'Frame00919-org.jpg', 'Frame00954-org.jpg', 'Frame00885-org.jpg', 'Frame00803-org.jpg', 'Frame00944-org.jpg', 'Frame00547-org.jpg', 'Frame00029-org.jpg', 'Frame00766-org.jpg', 'Frame00813-org.jpg', 'Frame00245-org.jpg', 'Frame00080-org.jpg', 'Frame00909-org.jpg', 'Frame00776-org.jpg', 'Frame00302-org.jpg', 'Frame00895-org.jpg', 'Frame00871-org.jpg', 'Frame00370-org.jpg', 'Frame00394-org.jpg', 'Frame00861-org.jpg', 'Frame00749-org.jpg', 'Frame00496-org.jpg', 'Frame00123-org.jpg', 'Frame00621-org.jpg', 'Frame00227-org.jpg', 'Frame00133-org.jpg', 'Frame00360-org.jpg', 'Frame00369-org.jpg', 'Frame00926-org.jpg', 'Frame00419-org.jpg', 'Frame00513-org.jpg', 'Frame00653-org.jpg', 'braid-04.jpg', 'Frame00675-org.jpg', 'Frame00324-org.jpg', 'Frame00334-org.jpg', 'Frame00099-org.jpg', 'Frame00297-org.jpg', 'Frame00525-org.jpg', 'Frame00346-org.jpg', 'Frame00972-org.jpg', 'Frame00535-org.jpg', 'Frame00158-org.jpg', 'Frame00356-org.jpg', 'Frame00020-org.jpg', 'Frame01019-org.jpg', 'Frame00868-org.jpg', 'Frame00016-org.jpg', 'Frame00287-org.jpg', 'Frame00665-org.jpg', 'Frame00208-org.jpg', 'Frame00211-org.jpg', 'Frame00379-org.jpg', 'Frame00936-org.jpg', 'wavy-03.jpg', 'Frame00006-org.jpg', 'Frame00193-org.jpg', 'Frame00148-org.jpg', 'Frame01009-org.jpg', 'Frame00042-org.jpg', 'Frame00561-org.jpg', 'Frame00878-org.jpg', 'Frame00571-org.jpg', 'Frame00218-org.jpg', 'Frame00910-org.jpg', 'Frame00201-org.jpg', 'Frame00996-org.jpg', 'Frame00590-org.jpg', 'Frame00444-org.jpg', 'Frame00162-org.jpg', 'Frame00737-org.jpg', 'Frame00740-org.jpg', 'Frame00750-org.jpg', 'kinky-02.jpg', 'Frame00539-org.jpg', 'Frame00441-org.jpg', 'Frame01036-org.jpg', 'Frame00722-org.jpg', 'Frame00580-org.jpg', 'Frame00847-org.jpg', 'Frame01044-org.jpg', 'Frame01023-org.jpg', 'Frame00727-org.jpg', 'Frame00214-org.jpg', 'Frame00825-org.jpg', 'Frame00732-org.jpg', 'Frame00993-org.jpg', 'Frame00628-org.jpg', 'Frame00177-org.jpg', 'Frame00595-org.jpg', 'Frame00273-org.jpg', 'Frame00835-org.jpg', 'Frame00852-org.jpg', 'Frame00857-org.jpg', 'Frame00167-org.jpg', 'Frame00986-org.jpg', 'Frame00585-org.jpg', 'Frame00436-org.jpg', 'Frame00691-org.jpg', 'Frame00842-org.jpg', 'Frame00529-org.jpg', 'Frame00426-org.jpg', 'Frame00204-org.jpg', 'Frame00516-org.jpg', 'Frame00057-org.jpg', 'Frame00078-org.jpg', 'Frame00196-org.jpg', 'Frame00958-org.jpg', 'Frame00574-org.jpg', 'Frame00398-org.jpg', 'Frame00708-org.jpg', 'Frame00110-org.jpg', 'Frame00820-org.jpg', 'Frame00343-org.jpg', 'Frame00941-org.jpg', 'Frame00423-org.jpg', 'Frame00839-org.jpg', 'braid-01.jpg', 'Frame00830-org.jpg', 'Frame00266-org.jpg', 'Frame00388-org.jpg', 'Frame00905-org.jpg', 'Frame00506-org.jpg', 'Frame00915-org.jpg', 'Frame00660-org.jpg', 'Frame00670-org.jpg', 'Frame00025-org.jpg', 'loc-02.jpg', 'Frame00948-org.jpg', 'Frame01041-org.jpg', 'Frame00035-org.jpg', 'Frame00564-org.jpg', 'Frame00745-org.jpg', 'Frame00612-org.jpg', 'Frame00684-org.jpg', 'Frame00047-org.jpg', 'Frame00100-org.jpg', 'Frame00249-org.jpg', 'Frame00276-org.jpg', 'Frame00068-org.jpg', 'Frame00331-org.jpg', 'Frame00718-org.jpg', 'Frame00899-org.jpg', 'Frame00292-org.jpg', 'Frame00240-org.jpg', 'Frame00136-org.jpg', 'Frame00787-org.jpg', 'Frame00375-org.jpg', 'striaght-03.jpg', 'Frame00923-org.jpg', 'Frame00552-org.jpg', 'Frame00095-org.jpg', 'Frame00250-org.jpg', 'Frame00656-org.jpg', 'Frame00589-org.jpg', 'Frame00864-org.jpg', 'Frame00797-org.jpg', 'Frame00338-org.jpg', 'Frame00624-org.jpg', 'Frame01048-org.jpg', 'Frame00415-org.jpg', 'Frame00773-org.jpg', 'Frame00646-org.jpg', 'Frame00933-org.jpg', 'Frame00816-org.jpg', 'Frame00061-org.jpg', 'Frame00317-org.jpg', 'Frame00890-org.jpg', 'Frame00109-org.jpg', 'Frame00085-org.jpg', 'Frame00126-org.jpg', 'Frame00405-org.jpg', 'Frame00829-org.jpg', 'curly-02.jpg', 'Frame00493-org.jpg', 'Frame00763-org.jpg', 'Frame00806-org.jpg', 'Frame00119-org.jpg', 'Frame00448-org.jpg', 'Frame00951-org.jpg', 'Frame00071-org.jpg', 'Frame00880-org.jpg', 'Frame00530-org.jpg', 'Frame00634-org.jpg', 'Frame00542-org.jpg', 'Frame00012-org.jpg', 'Frame00786-org.jpg', 'Frame00598-org.jpg', 'Frame00647-org.jpg', 'striaght-02.jpg', 'Frame00796-org.jpg', 'Frame00588-org.jpg', 'Frame00891-org.jpg', 'Frame00625-org.jpg', 'Frame00711-org.jpg', 'Frame01049-org.jpg', 'Frame00922-org.jpg', 'Frame00635-org.jpg', 'Frame00940-org.jpg', 'Frame00657-org.jpg', 'Frame00881-org.jpg', 'Frame00874-org.jpg', 'curly-01.jpg', 'Frame00679-org.jpg', 'Frame00477-org.jpg', 'Frame00492-org.jpg', 'Frame00838-org.jpg', 'Frame00828-org.jpg', 'Frame00482-org.jpg', 'Frame00144-org.jpg', 'Frame00553-org.jpg', 'Frame00467-org.jpg', 'Frame00118-org.jpg', 'Frame00449-org.jpg', 'Frame00932-org.jpg', 'Frame00222-org.jpg', 'Frame00521-org.jpg', 'Frame00543-org.jpg', 'Frame00950-org.jpg', 'Frame00316-org.jpg', 'Frame00108-org.jpg', 'Frame00070-org.jpg', 'Frame00669-org.jpg', 'Frame01015-org.jpg', 'Frame00094-org.jpg', 'Frame00581-org.jpg', 'wavy-02.jpg', 'Frame00414-org.jpg', 'Frame00710-org.jpg', 'Frame01004-org.jpg', 'Frame00127-org.jpg', 'Frame00163-org.jpg', 'Frame00538-org.jpg', 'Frame00223-org.jpg', 'Frame00390-org.jpg', 'Frame00992-org.jpg', 'Frame00137-org.jpg', 'Frame00241-org.jpg', 'Frame00339-org.jpg', 'Frame00215-org.jpg', 'Frame00277-org.jpg', 'Frame00726-org.jpg', 'Frame00329-org.jpg', 'Frame00364-org.jpg', 'Frame00591-org.jpg', 'Frame01022-org.jpg', 'Frame00205-org.jpg', 'Frame00982-org.jpg', 'Frame00736-org.jpg', 'Frame00380-org.jpg', 'Frame00865-org.jpg', 'Frame00528-org.jpg', 'Frame00678-org.jpg', 'Frame00440-org.jpg', 'Frame00476-org.jpg', 'Frame00233-org.jpg', 'Frame00843-org.jpg', 'Frame00145-org.jpg', 'Frame00853-org.jpg', 'Frame00466-org.jpg', 'Frame01014-org.jpg', 'Frame00173-org.jpg', 'Frame00700-org.jpg', 'Frame01032-org.jpg', 'Frame00807-org.jpg', 'Frame00875-org.jpg', 'Frame00949-org.jpg', 'locs-01.jpg', 'Frame00399-org.jpg', 'Frame00422-org.jpg', 'Frame00831-org.jpg', 'Frame00517-org.jpg', 'Frame01040-org.jpg', 'Frame00389-org.jpg', 'Frame00248-org.jpg', 'Frame00671-org.jpg', 'Frame00613-org.jpg', 'Frame00575-org.jpg', 'Frame00920-org.jpg', 'Frame00904-org.jpg', 'Frame00784-org.jpg', 'Frame00661-org.jpg', 'Frame00101-org.jpg', 'Frame00258-org.jpg', 'Frame00507-org.jpg', 'Frame00197-org.jpg', 'Frame00719-org.jpg', 'Frame00352-org.jpg', 'Frame00330-org.jpg', 'Frame00959-org.jpg', 'Frame00914-org.jpg', 'Frame00034-org.jpg', 'Frame00603-org.jpg', 'Frame00966-org.jpg', 'Frame00342-org.jpg', 'Frame00709-org.jpg', 'Frame00821-org.jpg', 'Frame00046-org.jpg', 'Frame00976-org.jpg', 'Frame00111-org.jpg', 'Frame00320-org.jpg', 'Frame00056-org.jpg', 'Frame00283-org.jpg', 'Frame00898-org.jpg', 'Frame00565-org.jpg', 'Frame00157-org.jpg', 'Frame00541-org.jpg', 'Frame00712-org.jpg', 'curly-05.jpg', 'Frame00231-org.jpg', 'Frame00893-org.jpg', 'Frame01029-org.jpg', 'Frame00086-org.jpg', 'Frame00533-org.jpg', 'Frame00147-org.jpg', 'Frame00942-org.jpg', 'Frame01016-org.jpg', 'Frame00298-org.jpg', 'Frame00349-org.jpg', 'Frame00382-org.jpg', 'Frame00952-org.jpg', 'Frame00406-org.jpg', 'Frame00376-org.jpg', 'Frame00655-org.jpg', 'Frame00637-org.jpg', 'Frame00288-org.jpg', 'Frame01006-org.jpg', 'Frame00243-org.jpg', 'Frame00474-org.jpg', 'Frame00392-org.jpg', 'Frame00848-org.jpg', 'Frame00702-org.jpg', 'Frame00359-org.jpg', 'Frame00221-org.jpg', 'Frame00062-org.jpg', 'Frame00989-org.jpg', 'Frame00930-org.jpg', 'Frame00464-org.jpg', 'Frame00815-org.jpg', 'Frame00429-org.jpg', 'Frame00999-org.jpg', 'Frame00867-org.jpg', 'Frame00072-org.jpg', 'Frame00805-org.jpg', 'Frame00439-org.jpg', 'Frame00490-org.jpg', 'Frame00480-org.jpg', 'Frame00366-org.jpg', 'Frame00760-org.jpg', 'wavy-05.jpg', 'Frame00430-org.jpg', 'Frame00489-org.jpg', 'Frame00275-org.jpg', 'Frame00171-org.jpg', 'Frame00217-org.jpg', 'Frame00823-org.jpg', 'Frame00980-org.jpg', 'Frame00420-org.jpg', 'Frame00833-org.jpg', 'Frame00746-org.jpg', 'Frame00019-org.jpg', 'Frame00939-org.jpg', 'Frame00618-org.jpg', 'Frame00103-org.jpg', 'Frame00009-org.jpg', 'Frame00770-org.jpg', 'Frame00499-org.jpg', 'Frame01030-org.jpg', 'Frame00841-org.jpg', 'Frame01020-org.jpg', 'Frame00851-org.jpg', 'Frame00185-org.jpg', 'Frame00548-org.jpg', 'Frame00724-org.jpg', 'Frame00125-org.jpg', 'Frame00577-org.jpg', 'Frame00697-org.jpg', 'Frame00567-org.jpg', 'Frame00253-org.jpg', 'Frame00687-org.jpg', 'Frame00593-org.jpg', 'Frame00608-org.jpg', 'loc-03.jpg', 'Frame00734-org.jpg', 'Frame00452-org.jpg', 'Frame00195-org.jpg', 'Frame00044-org.jpg', 'Frame00505-org.jpg', 'Frame00322-org.jpg', 'Frame00928-org.jpg', 'Frame00421-org.jpg', 'Frame00725-org.jpg', 'Frame01031-org.jpg', 'Frame00274-org.jpg', 'Frame00686-org.jpg', 'Frame00488-org.jpg', 'Frame00981-org.jpg', 'Frame00206-org.jpg', 'Frame00350-org.jpg', 'Frame00779-org.jpg', 'Frame00340-org.jpg', 'Frame00549-org.jpg', 'Frame00228-org.jpg', 'Frame00938-org.jpg', 'wavy-04.jpg', 'Frame00170-org.jpg', 'Frame00264-org.jpg', 'Frame00453-org.jpg', 'Frame00515-org.jpg', 'Frame01021-org.jpg', 'Frame00840-org.jpg', 'Frame01043-org.jpg', 'Frame00332-org.jpg', 'Frame00696-org.jpg', 'Frame00735-org.jpg', 'Frame00036-org.jpg', 'Frame00582-org.jpg', 'Frame00673-org.jpg', 'Frame00747-org.jpg', 'Frame00026-org.jpg', 'Frame00054-org.jpg', 'Frame00663-org.jpg', 'Frame00008-org.jpg', 'Frame00611-org.jpg', 'locs-04.jpg', 'Frame00443-org.jpg', 'Frame00291-org.jpg', 'Frame00916-org.jpg', 'Frame00592-org.jpg', 'Frame00229-org.jpg', 'Frame00907-org.jpg', 'Frame00532-org.jpg', 'Frame00672-org.jpg', 'Frame00522-org.jpg', 'Frame00055-org.jpg', 'Frame00988-org.jpg', 'Frame00194-org.jpg', 'Frame00610-org.jpg', 'Frame00184-org.jpg', 'Frame01028-org.jpg', 'Frame00323-org.jpg', 'Frame00778-org.jpg', 'Frame00377-org.jpg', 'Frame01038-org.jpg', 'Frame00290-org.jpg', 'Frame00965-org.jpg', 'Frame00341-org.jpg', 'striaght.jpg', 'kinky-01.jpg', 'Frame00514-org.jpg', 'kinky-05.jpg', 'Frame00169-org.jpg', 'Frame00917-org.jpg', 'Frame00027-org.jpg', 'Frame00351-org.jpg', 'Frame00239-org.jpg', 'Frame00179-org.jpg', 'Frame00504-org.jpg', 'Frame00662-org.jpg', 'Frame00600-org.jpg', 'Frame00011-org.jpg', 'Frame00045-org.jpg', 'Frame00768-org.jpg', 'Frame00280-org.jpg', 'Frame00037-org.jpg', 'Frame00475-org.jpg', 'Frame00481-org.jpg', 'Frame00609-org.jpg', 'Frame00146-org.jpg', 'Frame00550-org.jpg', 'Frame00654-org.jpg', 'Frame00953-org.jpg', 'Frame00305-org.jpg', 'Frame00882-org.jpg', 'Frame00407-org.jpg', 'Frame00771-org.jpg', 'Frame00073-org.jpg', 'Frame00859-org.jpg', 'Frame00703-org.jpg', 'Frame01007-org.jpg', 'Frame00943-org.jpg', 'Frame00417-org.jpg', 'Frame00087-org.jpg', 'Frame00220-org.jpg', 'Frame00931-org.jpg', 'Frame00876-org.jpg', 'Frame01017-org.jpg', 'Frame00636-org.jpg', 'Frame00242-org.jpg', 'Frame00761-org.jpg', 'Frame00849-org.jpg', 'Frame00348-org.jpg', 'Frame00097-org.jpg', 'Frame00428-org.jpg', 'Frame00156-org.jpg', 'Frame00921-org.jpg', 'braid-05.jpg', 'Frame00644-org.jpg', 'Frame00438-org.jpg', 'Frame00540-org.jpg', 'Frame00230-org.jpg', 'Frame00289-org.jpg', 'Frame00713-org.jpg', 'Frame00619-org.jpg', 'Frame00299-org.jpg', 'Frame00866-org.jpg', 'Frame00315-org.jpg', 'Frame00465-org.jpg', 'Frame00383-org.jpg', 'Frame00393-org.jpg', 'Frame00814-org.jpg', 'Frame00124-org.jpg', 'Frame00804-org.jpg']\n"
          ]
        }
      ]
    },
    {
      "cell_type": "code",
      "source": [
        "# Parse the dataset into labeled and unlabeled groups\n",
        "labeled_images = []\n",
        "unlabeled_images = []"
      ],
      "metadata": {
        "id": "bGTNMgq8JCg-"
      },
      "execution_count": 7,
      "outputs": []
    },
    {
      "cell_type": "code",
      "source": [
        "for filename in os.listdir(TRAIN_DIR):\n",
        "    if \"braid\" in filename or \"curly\" in filename or \"kinky\" in filename or \"striaght\" in filename or \"wavy\" in filename or \"locs\" in filename:\n",
        "        # Extract the class from the filename (e.g., braid-01 -> braid)\n",
        "        label = filename.split(\"-\")[0]\n",
        "        labeled_images.append((os.path.join(TRAIN_DIR, filename), label))\n",
        "    else:\n",
        "        unlabeled_images.append(os.path.join(TRAIN_DIR, filename))"
      ],
      "metadata": {
        "id": "LjkYJrF0XDLU"
      },
      "execution_count": 8,
      "outputs": []
    },
    {
      "cell_type": "code",
      "source": [
        "# Create DataFrames for easy handling\n",
        "labeled_df = pd.DataFrame(labeled_images, columns=[\"image_path\", \"label\"])\n",
        "unlabeled_df = pd.DataFrame(unlabeled_images, columns=[\"image_path\"])"
      ],
      "metadata": {
        "id": "Oisqq0rTXciY"
      },
      "execution_count": 9,
      "outputs": []
    },
    {
      "cell_type": "code",
      "source": [
        "IMG_HEIGHT, IMG_WIDTH = 128, 128\n",
        "\n",
        "# Function to preprocess images\n",
        "def preprocess_images(image_paths, labels=None):\n",
        "    images = []\n",
        "    processed_labels = []\n",
        "    for img_path in image_paths:\n",
        "        img = load_img(img_path, target_size=(IMG_HEIGHT, IMG_WIDTH))\n",
        "        img_array = img_to_array(img) / 255.0  # Normalize pixel values\n",
        "        images.append(img_array)\n",
        "        if labels is not None:\n",
        "            processed_labels.append(labels.pop(0))  # Remove label from the list\n",
        "    images = np.array(images)\n",
        "    if labels is not None:\n",
        "        return images, np.array(processed_labels)\n",
        "    return images"
      ],
      "metadata": {
        "id": "hnyS35s5YspP"
      },
      "execution_count": 10,
      "outputs": []
    },
    {
      "cell_type": "code",
      "source": [
        "# Process labeled data\n",
        "X_labeled, y_labeled = preprocess_images(labeled_df['image_path'].tolist(), labeled_df['label'].tolist())\n",
        "\n",
        "# Process unlabeled data\n",
        "X_unlabeled = preprocess_images(unlabeled_df['image_path'].tolist())"
      ],
      "metadata": {
        "id": "7ONfTUvSY4Jt"
      },
      "execution_count": 11,
      "outputs": []
    },
    {
      "cell_type": "code",
      "source": [
        "# Encode string labels into numeric format\n",
        "from sklearn.preprocessing import LabelEncoder\n",
        "label_encoder = LabelEncoder()\n",
        "y_encoded = label_encoder.fit_transform(y_labeled)\n",
        "\n"
      ],
      "metadata": {
        "id": "4qhNUZPQZs9_"
      },
      "execution_count": 12,
      "outputs": []
    },
    {
      "cell_type": "code",
      "source": [
        "# Build a simple CNN model\n",
        "model = Sequential([\n",
        "    Conv2D(32, (3, 3), activation='relu', input_shape=(IMG_HEIGHT, IMG_WIDTH, 3)),\n",
        "    MaxPooling2D((2, 2)),\n",
        "    Conv2D(64, (3, 3), activation='relu'),\n",
        "    MaxPooling2D((2, 2)),\n",
        "    Flatten(),\n",
        "    Dense(128, activation='relu'),\n",
        "    Dense(len(np.unique(y_encoded)), activation='softmax')\n",
        "])\n"
      ],
      "metadata": {
        "id": "Kf5FA9XkLtGK",
        "colab": {
          "base_uri": "https://localhost:8080/"
        },
        "outputId": "ce101b11-ff96-45ed-fbc2-9c7ec1105d7c"
      },
      "execution_count": 13,
      "outputs": [
        {
          "output_type": "stream",
          "name": "stderr",
          "text": [
            "/usr/local/lib/python3.11/dist-packages/keras/src/layers/convolutional/base_conv.py:107: UserWarning: Do not pass an `input_shape`/`input_dim` argument to a layer. When using Sequential models, prefer using an `Input(shape)` object as the first layer in the model instead.\n",
            "  super().__init__(activity_regularizer=activity_regularizer, **kwargs)\n"
          ]
        }
      ]
    },
    {
      "cell_type": "code",
      "source": [
        "# Compile the model\n",
        "model.compile(optimizer='adam', loss='sparse_categorical_crossentropy', metrics=['accuracy'])"
      ],
      "metadata": {
        "id": "SZS82s4vNdrs"
      },
      "execution_count": 14,
      "outputs": []
    },
    {
      "cell_type": "code",
      "source": [
        "# Train the model\n",
        "model.fit(X_labeled, y_encoded, epochs=10, batch_size=32)"
      ],
      "metadata": {
        "colab": {
          "base_uri": "https://localhost:8080/"
        },
        "id": "Vln0-D37QLBY",
        "outputId": "9f4569a5-e07b-4cb8-fdf1-a45c6525df28"
      },
      "execution_count": 15,
      "outputs": [
        {
          "output_type": "stream",
          "name": "stdout",
          "text": [
            "Epoch 1/10\n",
            "\u001b[1m1/1\u001b[0m \u001b[32m━━━━━━━━━━━━━━━━━━━━\u001b[0m\u001b[37m\u001b[0m \u001b[1m2s\u001b[0m 2s/step - accuracy: 0.0323 - loss: 2.1892\n",
            "Epoch 2/10\n",
            "\u001b[1m1/1\u001b[0m \u001b[32m━━━━━━━━━━━━━━━━━━━━\u001b[0m\u001b[37m\u001b[0m \u001b[1m1s\u001b[0m 891ms/step - accuracy: 0.2903 - loss: 2.9409\n",
            "Epoch 3/10\n",
            "\u001b[1m1/1\u001b[0m \u001b[32m━━━━━━━━━━━━━━━━━━━━\u001b[0m\u001b[37m\u001b[0m \u001b[1m1s\u001b[0m 652ms/step - accuracy: 0.1613 - loss: 4.1350\n",
            "Epoch 4/10\n",
            "\u001b[1m1/1\u001b[0m \u001b[32m━━━━━━━━━━━━━━━━━━━━\u001b[0m\u001b[37m\u001b[0m \u001b[1m1s\u001b[0m 1s/step - accuracy: 0.2258 - loss: 3.2481\n",
            "Epoch 5/10\n",
            "\u001b[1m1/1\u001b[0m \u001b[32m━━━━━━━━━━━━━━━━━━━━\u001b[0m\u001b[37m\u001b[0m \u001b[1m1s\u001b[0m 1s/step - accuracy: 0.2258 - loss: 2.1963\n",
            "Epoch 6/10\n",
            "\u001b[1m1/1\u001b[0m \u001b[32m━━━━━━━━━━━━━━━━━━━━\u001b[0m\u001b[37m\u001b[0m \u001b[1m2s\u001b[0m 2s/step - accuracy: 0.4194 - loss: 1.6633\n",
            "Epoch 7/10\n",
            "\u001b[1m1/1\u001b[0m \u001b[32m━━━━━━━━━━━━━━━━━━━━\u001b[0m\u001b[37m\u001b[0m \u001b[1m1s\u001b[0m 1s/step - accuracy: 0.5806 - loss: 1.3692\n",
            "Epoch 8/10\n",
            "\u001b[1m1/1\u001b[0m \u001b[32m━━━━━━━━━━━━━━━━━━━━\u001b[0m\u001b[37m\u001b[0m \u001b[1m2s\u001b[0m 2s/step - accuracy: 0.3226 - loss: 1.4760\n",
            "Epoch 9/10\n",
            "\u001b[1m1/1\u001b[0m \u001b[32m━━━━━━━━━━━━━━━━━━━━\u001b[0m\u001b[37m\u001b[0m \u001b[1m1s\u001b[0m 1s/step - accuracy: 0.6774 - loss: 1.1977\n",
            "Epoch 10/10\n",
            "\u001b[1m1/1\u001b[0m \u001b[32m━━━━━━━━━━━━━━━━━━━━\u001b[0m\u001b[37m\u001b[0m \u001b[1m1s\u001b[0m 1s/step - accuracy: 0.8065 - loss: 1.0004\n"
          ]
        },
        {
          "output_type": "execute_result",
          "data": {
            "text/plain": [
              "<keras.src.callbacks.history.History at 0x7b1a59f3b850>"
            ]
          },
          "metadata": {},
          "execution_count": 15
        }
      ]
    },
    {
      "cell_type": "code",
      "source": [
        "# Predict labels for unlabeled images\n",
        "predictions = model.predict(X_unlabeled)\n",
        "predicted_labels = np.argmax(predictions, axis=1)"
      ],
      "metadata": {
        "id": "tncZQrfSMB6h",
        "colab": {
          "base_uri": "https://localhost:8080/"
        },
        "outputId": "73084066-300f-453b-811b-311fb0706295"
      },
      "execution_count": 16,
      "outputs": [
        {
          "output_type": "stream",
          "name": "stdout",
          "text": [
            "\u001b[1m26/26\u001b[0m \u001b[32m━━━━━━━━━━━━━━━━━━━━\u001b[0m\u001b[37m\u001b[0m \u001b[1m5s\u001b[0m 188ms/step\n"
          ]
        }
      ]
    },
    {
      "cell_type": "code",
      "source": [
        "# Map numeric labels back to their string values\n",
        "predicted_labels = label_encoder.inverse_transform(predicted_labels)"
      ],
      "metadata": {
        "id": "97UOONj4MJls"
      },
      "execution_count": 17,
      "outputs": []
    },
    {
      "cell_type": "code",
      "source": [
        "# Add predictions to the unlabeled DataFrame\n",
        "unlabeled_df['predicted_label'] = predicted_labels"
      ],
      "metadata": {
        "id": "j08OmmedOA-e"
      },
      "execution_count": 18,
      "outputs": []
    },
    {
      "cell_type": "code",
      "source": [
        "# Save the labeled and predicted data for review\n",
        "output_path = \"/content/drive/MyDrive/output_dataset.csv\"\n",
        "unlabeled_df.to_csv(output_path, index=False)"
      ],
      "metadata": {
        "id": "r_CQuWLNaVxw"
      },
      "execution_count": 19,
      "outputs": []
    },
    {
      "cell_type": "code",
      "source": [
        "# Correct path for loading the file\n",
        "output_path = \"/content/drive/MyDrive/output_dataset.csv\"\n",
        "labeled_output = pd.read_csv(output_path)"
      ],
      "metadata": {
        "id": "eBU7-HXPab7t"
      },
      "execution_count": 20,
      "outputs": []
    },
    {
      "cell_type": "code",
      "source": [
        "print(\"Labeled Data:\\n\", labeled_output)\n",
        "\n"
      ],
      "metadata": {
        "id": "EH-tT5g7atI0",
        "colab": {
          "base_uri": "https://localhost:8080/"
        },
        "outputId": "ba915969-b104-4eab-d1e9-eab355fe56c5"
      },
      "execution_count": 21,
      "outputs": [
        {
          "output_type": "stream",
          "name": "stdout",
          "text": [
            "Labeled Data:\n",
            "                                             image_path predicted_label\n",
            "0    /content/drive/MyDrive/Figaro-1k/Original/Trai...           braid\n",
            "1    /content/drive/MyDrive/Figaro-1k/Original/Trai...            wavy\n",
            "2    /content/drive/MyDrive/Figaro-1k/Original/Trai...            wavy\n",
            "3    /content/drive/MyDrive/Figaro-1k/Original/Trai...            wavy\n",
            "4    /content/drive/MyDrive/Figaro-1k/Original/Trai...            wavy\n",
            "..                                                 ...             ...\n",
            "804  /content/drive/MyDrive/Figaro-1k/Original/Trai...            wavy\n",
            "805  /content/drive/MyDrive/Figaro-1k/Original/Trai...            wavy\n",
            "806  /content/drive/MyDrive/Figaro-1k/Original/Trai...            wavy\n",
            "807  /content/drive/MyDrive/Figaro-1k/Original/Trai...            wavy\n",
            "808  /content/drive/MyDrive/Figaro-1k/Original/Trai...        striaght\n",
            "\n",
            "[809 rows x 2 columns]\n"
          ]
        }
      ]
    },
    {
      "cell_type": "code",
      "source": [
        "\n"
      ],
      "metadata": {
        "id": "4qWSLCN-cX1K"
      },
      "execution_count": 21,
      "outputs": []
    },
    {
      "cell_type": "markdown",
      "source": [
        "After labeling the images, the CNN and Hairnet models are trained to categories the images based on common characteristics"
      ],
      "metadata": {
        "id": "z_uhK1d-eA2V"
      }
    },
    {
      "cell_type": "markdown",
      "source": [
        "Load and Preprocess Data"
      ],
      "metadata": {
        "id": "P8iN1eB7jFp9"
      }
    },
    {
      "cell_type": "code",
      "source": [
        "# Load dataset\n",
        "data = pd.read_csv('/content/drive/MyDrive/output_dataset.csv')\n"
      ],
      "metadata": {
        "id": "THOUHQJBeNed"
      },
      "execution_count": 22,
      "outputs": []
    },
    {
      "cell_type": "code",
      "source": [
        "print(data.columns)\n"
      ],
      "metadata": {
        "colab": {
          "base_uri": "https://localhost:8080/"
        },
        "id": "2UHUJsfXfknh",
        "outputId": "61f76cf6-e886-4dc1-8ab4-283925cf1d74"
      },
      "execution_count": 23,
      "outputs": [
        {
          "output_type": "stream",
          "name": "stdout",
          "text": [
            "Index(['image_path', 'predicted_label'], dtype='object')\n"
          ]
        }
      ]
    },
    {
      "cell_type": "code",
      "source": [
        "# Extract image paths and labels\n",
        "image_paths = data['image_path']\n",
        "labels = data['predicted_label']\n",
        "\n",
        "\n"
      ],
      "metadata": {
        "id": "LT0LT1W6ePCy"
      },
      "execution_count": 24,
      "outputs": []
    },
    {
      "cell_type": "code",
      "source": [
        "# Encode labels into integers\n",
        "from sklearn.preprocessing import LabelEncoder\n",
        "label_encoder = LabelEncoder()\n",
        "labels_encoded = label_encoder.fit_transform(labels)"
      ],
      "metadata": {
        "id": "1WAqnGOzgsj4"
      },
      "execution_count": 25,
      "outputs": []
    },
    {
      "cell_type": "code",
      "source": [
        "import pickle\n",
        "\n",
        "# Save the label encoder to a file\n",
        "with open('/content/drive/MyDrive/label_encoder.pkl', 'wb') as file:\n",
        "    pickle.dump(label_encoder, file)\n",
        "\n",
        "print(\"Label encoder saved successfully!\")\n"
      ],
      "metadata": {
        "colab": {
          "base_uri": "https://localhost:8080/"
        },
        "id": "wiK9fswFxw4M",
        "outputId": "227571cd-1305-44b5-99ff-38fa42242b5c"
      },
      "execution_count": 39,
      "outputs": [
        {
          "output_type": "stream",
          "name": "stdout",
          "text": [
            "Label encoder saved successfully!\n"
          ]
        }
      ]
    },
    {
      "cell_type": "code",
      "source": [
        "# Split data into training and validation sets\n",
        "train_paths, val_paths, train_labels, val_labels = train_test_split(\n",
        "    image_paths, labels_encoded, test_size=0.2, random_state=42\n",
        ")"
      ],
      "metadata": {
        "id": "k1XS_L8yhBG2"
      },
      "execution_count": 26,
      "outputs": []
    },
    {
      "cell_type": "code",
      "source": [
        "# Prepare images: Resize and normalize\n",
        "def load_and_preprocess_image(image_path, target_size=(128, 128)):\n",
        "    img = tf.keras.preprocessing.image.load_img(image_path, target_size=target_size)\n",
        "    img_array = tf.keras.preprocessing.image.img_to_array(img)\n",
        "    return img_array / 255.0"
      ],
      "metadata": {
        "id": "ooNHXax9hGGK"
      },
      "execution_count": 27,
      "outputs": []
    },
    {
      "cell_type": "code",
      "source": [
        "# Load all images into numpy arrays\n",
        "train_images = np.array([load_and_preprocess_image(path) for path in train_paths])\n",
        "val_images = np.array([load_and_preprocess_image(path) for path in val_paths])\n"
      ],
      "metadata": {
        "id": "vyHIuv4chJRn"
      },
      "execution_count": 28,
      "outputs": []
    },
    {
      "cell_type": "code",
      "source": [
        "# One-hot encode labels\n",
        "train_labels_one_hot = tf.keras.utils.to_categorical(train_labels, num_classes=len(label_encoder.classes_))\n",
        "val_labels_one_hot = tf.keras.utils.to_categorical(val_labels, num_classes=len(label_encoder.classes_))"
      ],
      "metadata": {
        "id": "Fwj2YHD7hW9M"
      },
      "execution_count": 29,
      "outputs": []
    },
    {
      "cell_type": "markdown",
      "source": [
        "HairNet Model"
      ],
      "metadata": {
        "id": "wbvwrDJkhfiU"
      }
    },
    {
      "cell_type": "code",
      "source": [
        "# Define HairNet model\n",
        "def create_hairnet_model(input_shape, num_classes):\n",
        "    model = Sequential([\n",
        "        Flatten(input_shape=input_shape),\n",
        "        Dense(128, activation='relu'),\n",
        "        Dense(64, activation='relu'),\n",
        "        Dense(num_classes, activation='softmax')\n",
        "    ])\n",
        "    return model\n",
        "\n",
        "hairnet = create_hairnet_model(input_shape=(128, 128, 3), num_classes=len(label_encoder.classes_))\n",
        "hairnet.compile(optimizer='adam', loss='categorical_crossentropy', metrics=['accuracy'])\n",
        "\n",
        "# Train HairNet\n",
        "history_hairnet = hairnet.fit(train_images, train_labels_one_hot,\n",
        "                              validation_data=(val_images, val_labels_one_hot),\n",
        "                              epochs=10, batch_size=32)\n",
        "\n",
        "# Evaluate HairNet\n",
        "hairnet_eval = hairnet.evaluate(val_images, val_labels_one_hot)\n",
        "print(f\"HairNet Accuracy (Before Fine-tuning): {hairnet_eval[1] * 100:.2f}%\")\n"
      ],
      "metadata": {
        "colab": {
          "base_uri": "https://localhost:8080/"
        },
        "id": "p41m4QwnhcXh",
        "outputId": "1189cb16-dafc-449b-f2bd-9bbf8df8d5ae"
      },
      "execution_count": 30,
      "outputs": [
        {
          "output_type": "stream",
          "name": "stdout",
          "text": [
            "Epoch 1/10\n"
          ]
        },
        {
          "output_type": "stream",
          "name": "stderr",
          "text": [
            "/usr/local/lib/python3.11/dist-packages/keras/src/layers/reshaping/flatten.py:37: UserWarning: Do not pass an `input_shape`/`input_dim` argument to a layer. When using Sequential models, prefer using an `Input(shape)` object as the first layer in the model instead.\n",
            "  super().__init__(**kwargs)\n"
          ]
        },
        {
          "output_type": "stream",
          "name": "stdout",
          "text": [
            "\u001b[1m21/21\u001b[0m \u001b[32m━━━━━━━━━━━━━━━━━━━━\u001b[0m\u001b[37m\u001b[0m \u001b[1m3s\u001b[0m 100ms/step - accuracy: 0.3420 - loss: 9.5490 - val_accuracy: 0.2037 - val_loss: 5.3002\n",
            "Epoch 2/10\n",
            "\u001b[1m21/21\u001b[0m \u001b[32m━━━━━━━━━━━━━━━━━━━━\u001b[0m\u001b[37m\u001b[0m \u001b[1m3s\u001b[0m 134ms/step - accuracy: 0.4184 - loss: 4.7128 - val_accuracy: 0.5617 - val_loss: 3.3767\n",
            "Epoch 3/10\n",
            "\u001b[1m21/21\u001b[0m \u001b[32m━━━━━━━━━━━━━━━━━━━━\u001b[0m\u001b[37m\u001b[0m \u001b[1m4s\u001b[0m 100ms/step - accuracy: 0.5502 - loss: 1.7651 - val_accuracy: 0.5864 - val_loss: 2.1943\n",
            "Epoch 4/10\n",
            "\u001b[1m21/21\u001b[0m \u001b[32m━━━━━━━━━━━━━━━━━━━━\u001b[0m\u001b[37m\u001b[0m \u001b[1m2s\u001b[0m 78ms/step - accuracy: 0.6706 - loss: 1.2986 - val_accuracy: 0.3086 - val_loss: 2.0881\n",
            "Epoch 5/10\n",
            "\u001b[1m21/21\u001b[0m \u001b[32m━━━━━━━━━━━━━━━━━━━━\u001b[0m\u001b[37m\u001b[0m \u001b[1m2s\u001b[0m 71ms/step - accuracy: 0.6885 - loss: 0.9212 - val_accuracy: 0.6049 - val_loss: 1.3344\n",
            "Epoch 6/10\n",
            "\u001b[1m21/21\u001b[0m \u001b[32m━━━━━━━━━━━━━━━━━━━━\u001b[0m\u001b[37m\u001b[0m \u001b[1m2s\u001b[0m 81ms/step - accuracy: 0.6655 - loss: 0.9209 - val_accuracy: 0.5309 - val_loss: 1.9368\n",
            "Epoch 7/10\n",
            "\u001b[1m21/21\u001b[0m \u001b[32m━━━━━━━━━━━━━━━━━━━━\u001b[0m\u001b[37m\u001b[0m \u001b[1m2s\u001b[0m 97ms/step - accuracy: 0.7117 - loss: 0.9173 - val_accuracy: 0.6111 - val_loss: 1.4363\n",
            "Epoch 8/10\n",
            "\u001b[1m21/21\u001b[0m \u001b[32m━━━━━━━━━━━━━━━━━━━━\u001b[0m\u001b[37m\u001b[0m \u001b[1m2s\u001b[0m 79ms/step - accuracy: 0.7567 - loss: 0.6895 - val_accuracy: 0.4815 - val_loss: 1.4075\n",
            "Epoch 9/10\n",
            "\u001b[1m21/21\u001b[0m \u001b[32m━━━━━━━━━━━━━━━━━━━━\u001b[0m\u001b[37m\u001b[0m \u001b[1m2s\u001b[0m 71ms/step - accuracy: 0.7608 - loss: 0.6276 - val_accuracy: 0.6235 - val_loss: 1.4112\n",
            "Epoch 10/10\n",
            "\u001b[1m21/21\u001b[0m \u001b[32m━━━━━━━━━━━━━━━━━━━━\u001b[0m\u001b[37m\u001b[0m \u001b[1m2s\u001b[0m 79ms/step - accuracy: 0.7962 - loss: 0.5668 - val_accuracy: 0.5556 - val_loss: 1.2379\n",
            "\u001b[1m6/6\u001b[0m \u001b[32m━━━━━━━━━━━━━━━━━━━━\u001b[0m\u001b[37m\u001b[0m \u001b[1m0s\u001b[0m 14ms/step - accuracy: 0.5502 - loss: 1.2731\n",
            "HairNet Accuracy (Before Fine-tuning): 55.56%\n"
          ]
        }
      ]
    },
    {
      "cell_type": "markdown",
      "source": [
        "CNN model"
      ],
      "metadata": {
        "id": "asI-PZoHhvqU"
      }
    },
    {
      "cell_type": "code",
      "source": [
        "# Define CNN model\n",
        "def create_cnn_model(input_shape, num_classes):\n",
        "    model = Sequential([\n",
        "        Conv2D(32, (3, 3), activation='relu', input_shape=input_shape),\n",
        "        MaxPooling2D((2, 2)),\n",
        "        Conv2D(64, (3, 3), activation='relu'),\n",
        "        MaxPooling2D((2, 2)),\n",
        "        Flatten(),\n",
        "        Dense(128, activation='relu'),\n",
        "        Dense(num_classes, activation='softmax')\n",
        "    ])\n",
        "    return model\n",
        "\n",
        "cnn = create_cnn_model(input_shape=(128, 128, 3), num_classes=len(label_encoder.classes_))\n",
        "cnn.compile(optimizer='adam', loss='categorical_crossentropy', metrics=['accuracy'])\n",
        "\n",
        "# Train CNN\n",
        "history_cnn = cnn.fit(train_images, train_labels_one_hot,\n",
        "                      validation_data=(val_images, val_labels_one_hot),\n",
        "                      epochs=10, batch_size=32)\n",
        "\n",
        "# Evaluate CNN\n",
        "cnn_eval = cnn.evaluate(val_images, val_labels_one_hot)\n",
        "print(f\"CNN Accuracy (Before Fine-tuning): {cnn_eval[1] * 100:.2f}%\")\n"
      ],
      "metadata": {
        "colab": {
          "base_uri": "https://localhost:8080/"
        },
        "id": "or7fRcWZhtMV",
        "outputId": "56171bec-4e00-4f85-b32f-2fa7a73c2e19"
      },
      "execution_count": 31,
      "outputs": [
        {
          "output_type": "stream",
          "name": "stderr",
          "text": [
            "/usr/local/lib/python3.11/dist-packages/keras/src/layers/convolutional/base_conv.py:107: UserWarning: Do not pass an `input_shape`/`input_dim` argument to a layer. When using Sequential models, prefer using an `Input(shape)` object as the first layer in the model instead.\n",
            "  super().__init__(activity_regularizer=activity_regularizer, **kwargs)\n"
          ]
        },
        {
          "output_type": "stream",
          "name": "stdout",
          "text": [
            "Epoch 1/10\n",
            "\u001b[1m21/21\u001b[0m \u001b[32m━━━━━━━━━━━━━━━━━━━━\u001b[0m\u001b[37m\u001b[0m \u001b[1m15s\u001b[0m 601ms/step - accuracy: 0.4367 - loss: 1.9990 - val_accuracy: 0.5926 - val_loss: 1.1225\n",
            "Epoch 2/10\n",
            "\u001b[1m21/21\u001b[0m \u001b[32m━━━━━━━━━━━━━━━━━━━━\u001b[0m\u001b[37m\u001b[0m \u001b[1m19s\u001b[0m 561ms/step - accuracy: 0.6601 - loss: 0.8562 - val_accuracy: 0.7593 - val_loss: 0.6680\n",
            "Epoch 3/10\n",
            "\u001b[1m21/21\u001b[0m \u001b[32m━━━━━━━━━━━━━━━━━━━━\u001b[0m\u001b[37m\u001b[0m \u001b[1m21s\u001b[0m 566ms/step - accuracy: 0.7859 - loss: 0.5495 - val_accuracy: 0.6975 - val_loss: 0.7777\n",
            "Epoch 4/10\n",
            "\u001b[1m21/21\u001b[0m \u001b[32m━━━━━━━━━━━━━━━━━━━━\u001b[0m\u001b[37m\u001b[0m \u001b[1m11s\u001b[0m 527ms/step - accuracy: 0.8460 - loss: 0.4144 - val_accuracy: 0.7778 - val_loss: 0.6275\n",
            "Epoch 5/10\n",
            "\u001b[1m21/21\u001b[0m \u001b[32m━━━━━━━━━━━━━━━━━━━━\u001b[0m\u001b[37m\u001b[0m \u001b[1m21s\u001b[0m 572ms/step - accuracy: 0.9626 - loss: 0.1750 - val_accuracy: 0.7654 - val_loss: 0.7398\n",
            "Epoch 6/10\n",
            "\u001b[1m21/21\u001b[0m \u001b[32m━━━━━━━━━━━━━━━━━━━━\u001b[0m\u001b[37m\u001b[0m \u001b[1m12s\u001b[0m 574ms/step - accuracy: 0.9818 - loss: 0.1022 - val_accuracy: 0.7346 - val_loss: 0.9219\n",
            "Epoch 7/10\n",
            "\u001b[1m21/21\u001b[0m \u001b[32m━━━━━━━━━━━━━━━━━━━━\u001b[0m\u001b[37m\u001b[0m \u001b[1m20s\u001b[0m 560ms/step - accuracy: 0.9902 - loss: 0.0570 - val_accuracy: 0.7778 - val_loss: 0.7561\n",
            "Epoch 8/10\n",
            "\u001b[1m21/21\u001b[0m \u001b[32m━━━━━━━━━━━━━━━━━━━━\u001b[0m\u001b[37m\u001b[0m \u001b[1m12s\u001b[0m 567ms/step - accuracy: 0.9984 - loss: 0.0291 - val_accuracy: 0.7716 - val_loss: 0.8714\n",
            "Epoch 9/10\n",
            "\u001b[1m21/21\u001b[0m \u001b[32m━━━━━━━━━━━━━━━━━━━━\u001b[0m\u001b[37m\u001b[0m \u001b[1m11s\u001b[0m 533ms/step - accuracy: 1.0000 - loss: 0.0108 - val_accuracy: 0.7716 - val_loss: 0.8465\n",
            "Epoch 10/10\n",
            "\u001b[1m21/21\u001b[0m \u001b[32m━━━━━━━━━━━━━━━━━━━━\u001b[0m\u001b[37m\u001b[0m \u001b[1m21s\u001b[0m 557ms/step - accuracy: 1.0000 - loss: 0.0095 - val_accuracy: 0.7716 - val_loss: 0.7575\n",
            "\u001b[1m6/6\u001b[0m \u001b[32m━━━━━━━━━━━━━━━━━━━━\u001b[0m\u001b[37m\u001b[0m \u001b[1m1s\u001b[0m 117ms/step - accuracy: 0.7953 - loss: 0.7119\n",
            "CNN Accuracy (Before Fine-tuning): 77.16%\n"
          ]
        }
      ]
    },
    {
      "cell_type": "markdown",
      "source": [
        "Fine-Tunning the models"
      ],
      "metadata": {
        "id": "wOALmdEXjP_a"
      }
    },
    {
      "cell_type": "markdown",
      "source": [
        "Hairnet"
      ],
      "metadata": {
        "id": "KiqIw28AjUDz"
      }
    },
    {
      "cell_type": "code",
      "source": [
        "# Fine-tune HairNet\n",
        "hairnet.compile(optimizer=tf.keras.optimizers.Adam(learning_rate=0.0001),\n",
        "                loss='categorical_crossentropy',\n",
        "                metrics=['accuracy'])\n",
        "history_hairnet_finetune = hairnet.fit(train_images, train_labels_one_hot,\n",
        "                                       validation_data=(val_images, val_labels_one_hot),\n",
        "                                       epochs=5, batch_size=32)\n",
        "\n",
        "hairnet_eval_finetune = hairnet.evaluate(val_images, val_labels_one_hot)\n",
        "print(f\"HairNet Accuracy (After Fine-tuning): {hairnet_eval_finetune[1] * 100:.2f}%\")"
      ],
      "metadata": {
        "colab": {
          "base_uri": "https://localhost:8080/"
        },
        "id": "uJYOd9YIjXeN",
        "outputId": "3691ccf6-81d5-4b43-c5ad-074e827922cc"
      },
      "execution_count": 32,
      "outputs": [
        {
          "output_type": "stream",
          "name": "stdout",
          "text": [
            "Epoch 1/5\n",
            "\u001b[1m21/21\u001b[0m \u001b[32m━━━━━━━━━━━━━━━━━━━━\u001b[0m\u001b[37m\u001b[0m \u001b[1m4s\u001b[0m 105ms/step - accuracy: 0.8749 - loss: 0.3332 - val_accuracy: 0.6420 - val_loss: 1.0269\n",
            "Epoch 2/5\n",
            "\u001b[1m21/21\u001b[0m \u001b[32m━━━━━━━━━━━━━━━━━━━━\u001b[0m\u001b[37m\u001b[0m \u001b[1m2s\u001b[0m 78ms/step - accuracy: 0.9332 - loss: 0.2102 - val_accuracy: 0.6358 - val_loss: 0.9726\n",
            "Epoch 3/5\n",
            "\u001b[1m21/21\u001b[0m \u001b[32m━━━━━━━━━━━━━━━━━━━━\u001b[0m\u001b[37m\u001b[0m \u001b[1m2s\u001b[0m 88ms/step - accuracy: 0.9337 - loss: 0.2292 - val_accuracy: 0.6296 - val_loss: 0.9708\n",
            "Epoch 4/5\n",
            "\u001b[1m21/21\u001b[0m \u001b[32m━━━━━━━━━━━━━━━━━━━━\u001b[0m\u001b[37m\u001b[0m \u001b[1m2s\u001b[0m 69ms/step - accuracy: 0.9408 - loss: 0.1949 - val_accuracy: 0.6667 - val_loss: 0.9575\n",
            "Epoch 5/5\n",
            "\u001b[1m21/21\u001b[0m \u001b[32m━━━━━━━━━━━━━━━━━━━━\u001b[0m\u001b[37m\u001b[0m \u001b[1m1s\u001b[0m 71ms/step - accuracy: 0.9622 - loss: 0.1644 - val_accuracy: 0.6667 - val_loss: 0.9554\n",
            "\u001b[1m6/6\u001b[0m \u001b[32m━━━━━━━━━━━━━━━━━━━━\u001b[0m\u001b[37m\u001b[0m \u001b[1m0s\u001b[0m 14ms/step - accuracy: 0.6731 - loss: 0.9600\n",
            "HairNet Accuracy (After Fine-tuning): 66.67%\n"
          ]
        }
      ]
    },
    {
      "cell_type": "markdown",
      "source": [
        "CNN"
      ],
      "metadata": {
        "id": "ZjQIg0rRjfBU"
      }
    },
    {
      "cell_type": "code",
      "source": [
        "# Fine-tune CNN\n",
        "cnn.compile(optimizer=tf.keras.optimizers.Adam(learning_rate=0.0001),\n",
        "            loss='categorical_crossentropy',\n",
        "            metrics=['accuracy'])\n",
        "history_cnn_finetune = cnn.fit(train_images, train_labels_one_hot,\n",
        "                               validation_data=(val_images, val_labels_one_hot),\n",
        "                               epochs=5, batch_size=32)\n",
        "\n",
        "cnn_eval_finetune = cnn.evaluate(val_images, val_labels_one_hot)\n",
        "print(f\"CNN Accuracy (After Fine-tuning): {cnn_eval_finetune[1] * 100:.2f}%\")"
      ],
      "metadata": {
        "colab": {
          "base_uri": "https://localhost:8080/"
        },
        "id": "wBeSoBXujead",
        "outputId": "34114dc6-44ec-4c7b-fc2a-c8ba3bc8b457"
      },
      "execution_count": 33,
      "outputs": [
        {
          "output_type": "stream",
          "name": "stdout",
          "text": [
            "Epoch 1/5\n",
            "\u001b[1m21/21\u001b[0m \u001b[32m━━━━━━━━━━━━━━━━━━━━\u001b[0m\u001b[37m\u001b[0m \u001b[1m13s\u001b[0m 573ms/step - accuracy: 1.0000 - loss: 0.0032 - val_accuracy: 0.7901 - val_loss: 0.8317\n",
            "Epoch 2/5\n",
            "\u001b[1m21/21\u001b[0m \u001b[32m━━━━━━━━━━━━━━━━━━━━\u001b[0m\u001b[37m\u001b[0m \u001b[1m12s\u001b[0m 597ms/step - accuracy: 1.0000 - loss: 0.0015 - val_accuracy: 0.7840 - val_loss: 0.8518\n",
            "Epoch 3/5\n",
            "\u001b[1m21/21\u001b[0m \u001b[32m━━━━━━━━━━━━━━━━━━━━\u001b[0m\u001b[37m\u001b[0m \u001b[1m19s\u001b[0m 530ms/step - accuracy: 1.0000 - loss: 0.0012 - val_accuracy: 0.8086 - val_loss: 0.8524\n",
            "Epoch 4/5\n",
            "\u001b[1m21/21\u001b[0m \u001b[32m━━━━━━━━━━━━━━━━━━━━\u001b[0m\u001b[37m\u001b[0m \u001b[1m21s\u001b[0m 593ms/step - accuracy: 1.0000 - loss: 0.0011 - val_accuracy: 0.7840 - val_loss: 1.0305\n",
            "Epoch 5/5\n",
            "\u001b[1m21/21\u001b[0m \u001b[32m━━━━━━━━━━━━━━━━━━━━\u001b[0m\u001b[37m\u001b[0m \u001b[1m20s\u001b[0m 573ms/step - accuracy: 1.0000 - loss: 8.3041e-04 - val_accuracy: 0.7901 - val_loss: 0.9431\n",
            "\u001b[1m6/6\u001b[0m \u001b[32m━━━━━━━━━━━━━━━━━━━━\u001b[0m\u001b[37m\u001b[0m \u001b[1m1s\u001b[0m 117ms/step - accuracy: 0.7999 - loss: 0.8947\n",
            "CNN Accuracy (After Fine-tuning): 79.01%\n"
          ]
        }
      ]
    },
    {
      "cell_type": "markdown",
      "source": [
        "Saving the models"
      ],
      "metadata": {
        "id": "HTO6723RrFzP"
      }
    },
    {
      "cell_type": "code",
      "source": [
        "# Save the trained CNN model\n",
        "cnn.save('/content/drive/MyDrive/cnn_model.h5')\n",
        "\n",
        "# Save the trained HairNet model\n",
        "hairnet.save('/content/drive/MyDrive/hairnet_model.h5')\n",
        "\n",
        "print(\"Models saved successfully!\")\n"
      ],
      "metadata": {
        "colab": {
          "base_uri": "https://localhost:8080/"
        },
        "id": "i7a8NhwCrFDt",
        "outputId": "705edb8c-904c-498d-d13b-c7ddb7103da5"
      },
      "execution_count": 34,
      "outputs": [
        {
          "output_type": "stream",
          "name": "stderr",
          "text": [
            "WARNING:absl:You are saving your model as an HDF5 file via `model.save()` or `keras.saving.save_model(model)`. This file format is considered legacy. We recommend using instead the native Keras format, e.g. `model.save('my_model.keras')` or `keras.saving.save_model(model, 'my_model.keras')`. \n",
            "WARNING:absl:You are saving your model as an HDF5 file via `model.save()` or `keras.saving.save_model(model)`. This file format is considered legacy. We recommend using instead the native Keras format, e.g. `model.save('my_model.keras')` or `keras.saving.save_model(model, 'my_model.keras')`. \n"
          ]
        },
        {
          "output_type": "stream",
          "name": "stdout",
          "text": [
            "Models saved successfully!\n"
          ]
        }
      ]
    },
    {
      "cell_type": "markdown",
      "source": [
        "VISUALIXATION OF THE MODELS"
      ],
      "metadata": {
        "id": "z1vGvBktkQNC"
      }
    },
    {
      "cell_type": "code",
      "source": [
        "import matplotlib.pyplot as plt\n"
      ],
      "metadata": {
        "id": "6hNFkqXZkfz2"
      },
      "execution_count": 35,
      "outputs": []
    },
    {
      "cell_type": "code",
      "source": [
        "def plot_training_history(history, model_name):\n",
        "    plt.plot(history.history['accuracy'], label='Training Accuracy')\n",
        "    plt.plot(history.history['val_accuracy'], label='Validation Accuracy')\n",
        "    plt.title(f'{model_name} Accuracy')\n",
        "    plt.xlabel('Epochs')\n",
        "    plt.ylabel('Accuracy')\n",
        "    plt.legend()\n",
        "    plt.show()\n",
        "\n",
        "plot_training_history(history_hairnet, \"HairNet\")\n",
        "plot_training_history(history_cnn, \"CNN\")\n"
      ],
      "metadata": {
        "colab": {
          "base_uri": "https://localhost:8080/",
          "height": 927
        },
        "id": "NynaGoyBkYbq",
        "outputId": "e5a1b5d0-e884-4495-b2e5-1aad63e6e5c7"
      },
      "execution_count": 36,
      "outputs": [
        {
          "output_type": "display_data",
          "data": {
            "text/plain": [
              "<Figure size 640x480 with 1 Axes>"
            ],
            "image/png": "[encoded data removed]"
          },
          "metadata": {}
        },
        {
          "output_type": "display_data",
          "data": {
            "text/plain": [
              "<Figure size 640x480 with 1 Axes>"
            ],
            "image/png": "[encoded data removed]"
          },
          "metadata": {}
        }
      ]
    },
    {
      "cell_type": "markdown",
      "source": [
        "TESTING HAIR MODEL"
      ],
      "metadata": {
        "id": "xOdWiaGxmX-J"
      }
    },
    {
      "cell_type": "code",
      "source": [
        "#Importing all necessary libraries\n",
        "from tensorflow.keras.preprocessing.image import load_img, img_to_array\n",
        "import pickle"
      ],
      "metadata": {
        "id": "96FNlGUymXqi"
      },
      "execution_count": 37,
      "outputs": []
    },
    {
      "cell_type": "markdown",
      "source": [
        "Step 2: Load the Saved Models"
      ],
      "metadata": {
        "id": "-LIxanFLnWPA"
      }
    },
    {
      "cell_type": "code",
      "source": [
        "# Load the saved CNN model\n",
        "cnn_model = tf.keras.models.load_model('/content/drive/MyDrive/cnn_model.h5')\n",
        "\n",
        "# Load the saved HairNet model\n",
        "hairnet_model = tf.keras.models.load_model('/content/drive/MyDrive/hairnet_model.h5')\n",
        "\n",
        "# Load the label encoder\n",
        "with open('/content/drive/MyDrive/label_encoder.pkl', 'rb') as file:\n",
        "    label_encoder = pickle.load(file)\n"
      ],
      "metadata": {
        "colab": {
          "base_uri": "https://localhost:8080/"
        },
        "id": "nvz0-Mt2mufk",
        "outputId": "1a73c89e-e479-4eab-f975-94f24707eabd"
      },
      "execution_count": 40,
      "outputs": [
        {
          "output_type": "stream",
          "name": "stderr",
          "text": [
            "WARNING:absl:Compiled the loaded model, but the compiled metrics have yet to be built. `model.compile_metrics` will be empty until you train or evaluate the model.\n",
            "WARNING:absl:Compiled the loaded model, but the compiled metrics have yet to be built. `model.compile_metrics` will be empty until you train or evaluate the model.\n"
          ]
        }
      ]
    },
    {
      "cell_type": "markdown",
      "source": [
        "Step 3: Preprocess a Test Image"
      ],
      "metadata": {
        "id": "-k84-C9CnXZP"
      }
    },
    {
      "cell_type": "code",
      "source": [
        "# Function to preprocess a single test image\n",
        "def preprocess_test_image(image_path):\n",
        "    IMG_HEIGHT, IMG_WIDTH = 128, 128  # Ensure it matches training dimensions\n",
        "    img = load_img(image_path, target_size=(IMG_HEIGHT, IMG_WIDTH))  # Load and resize\n",
        "    img_array = img_to_array(img) / 255.0  # Normalize pixel values\n",
        "    img_array = np.expand_dims(img_array, axis=0)  # Expand dimensions for model input\n",
        "    return img_array\n"
      ],
      "metadata": {
        "id": "NjH8hus-naPq"
      },
      "execution_count": 41,
      "outputs": []
    },
    {
      "cell_type": "markdown",
      "source": [
        "Select a Test Image"
      ],
      "metadata": {
        "id": "V04hr8m1paAA"
      }
    },
    {
      "cell_type": "code",
      "source": [
        "from google.colab import files\n",
        "import shutil\n",
        "\n",
        "# Upload a file\n",
        "uploaded = files.upload()\n",
        "\n",
        "# Get the uploaded file name\n",
        "test_image_path = list(uploaded.keys())[0]\n",
        "\n",
        "# Move the uploaded file to a known location (optional)\n",
        "shutil.move(test_image_path, \"/content/\" + test_image_path)\n",
        "\n",
        "# Update test_image_path to reflect new location\n",
        "test_image_path = \"/content/\" + test_image_path\n",
        "\n",
        "print(f\"Uploaded test image: {test_image_path}\")\n"
      ],
      "metadata": {
        "colab": {
          "base_uri": "https://localhost:8080/",
          "height": 90
        },
        "id": "Loyg41L8pZMp",
        "outputId": "5d3d03cb-ce71-4623-8dba-2df0c93b84aa"
      },
      "execution_count": 63,
      "outputs": [
        {
          "output_type": "display_data",
          "data": {
            "text/plain": [
              "<IPython.core.display.HTML object>"
            ],
            "text/html": [
              "\n",
              "     <input type=\"file\" id=\"files-1cf1fc1c-3d63-4e15-bd55-6eb737d55ce8\" name=\"files[]\" multiple disabled\n",
              "        style=\"border:none\" />\n",
              "     <output id=\"result-1cf1fc1c-3d63-4e15-bd55-6eb737d55ce8\">\n",
              "      Upload widget is only available when the cell has been executed in the\n",
              "      current browser session. Please rerun this cell to enable.\n",
              "      </output>\n",
              "      <script>// Copyright 2017 Google LLC\n",
              "//\n",
              "// Licensed under the Apache License, Version 2.0 (the \"License\");\n",
              "// you may not use this file except in compliance with the License.\n",
              "// You may obtain a copy of the License at\n",
              "//\n",
              "//      http://www.apache.org/licenses/LICENSE-2.0\n",
              "//\n",
              "// Unless required by applicable law or agreed to in writing, software\n",
              "// distributed under the License is distributed on an \"AS IS\" BASIS,\n",
              "// WITHOUT WARRANTIES OR CONDITIONS OF ANY KIND, either express or implied.\n",
              "// See the License for the specific language governing permissions and\n",
              "// limitations under the License.\n",
              "\n",
              "/**\n",
              " * @fileoverview Helpers for google.colab Python module.\n",
              " */\n",
              "(function(scope) {\n",
              "function span(text, styleAttributes = {}) {\n",
              "  const element = document.createElement('span');\n",
              "  element.textContent = text;\n",
              "  for (const key of Object.keys(styleAttributes)) {\n",
              "    element.style[key] = styleAttributes[key];\n",
              "  }\n",
              "  return element;\n",
              "}\n",
              "\n",
              "// Max number of bytes which will be uploaded at a time.\n",
              "const MAX_PAYLOAD_SIZE = 100 * 1024;\n",
              "\n",
              "function _uploadFiles(inputId, outputId) {\n",
              "  const steps = uploadFilesStep(inputId, outputId);\n",
              "  const outputElement = document.getElementById(outputId);\n",
              "  // Cache steps on the outputElement to make it available for the next call\n",
              "  // to uploadFilesContinue from Python.\n",
              "  outputElement.steps = steps;\n",
              "\n",
              "  return _uploadFilesContinue(outputId);\n",
              "}\n",
              "\n",
              "// This is roughly an async generator (not supported in the browser yet),\n",
              "// where there are multiple asynchronous steps and the Python side is going\n",
              "// to poll for completion of each step.\n",
              "// This uses a Promise to block the python side on completion of each step,\n",
              "// then passes the result of the previous step as the input to the next step.\n",
              "function _uploadFilesContinue(outputId) {\n",
              "  const outputElement = document.getElementById(outputId);\n",
              "  const steps = outputElement.steps;\n",
              "\n",
              "  const next = steps.next(outputElement.lastPromiseValue);\n",
              "  return Promise.resolve(next.value.promise).then((value) => {\n",
              "    // Cache the last promise value to make it available to the next\n",
              "    // step of the generator.\n",
              "    outputElement.lastPromiseValue = value;\n",
              "    return next.value.response;\n",
              "  });\n",
              "}\n",
              "\n",
              "/**\n",
              " * Generator function which is called between each async step of the upload\n",
              " * process.\n",
              " * @param {string} inputId Element ID of the input file picker element.\n",
              " * @param {string} outputId Element ID of the output display.\n",
              " * @return {!Iterable<!Object>} Iterable of next steps.\n",
              " */\n",
              "function* uploadFilesStep(inputId, outputId) {\n",
              "  const inputElement = document.getElementById(inputId);\n",
              "  inputElement.disabled = false;\n",
              "\n",
              "  const outputElement = document.getElementById(outputId);\n",
              "  outputElement.innerHTML = '';\n",
              "\n",
              "  const pickedPromise = new Promise((resolve) => {\n",
              "    inputElement.addEventListener('change', (e) => {\n",
              "      resolve(e.target.files);\n",
              "    });\n",
              "  });\n",
              "\n",
              "  const cancel = document.createElement('button');\n",
              "  inputElement.parentElement.appendChild(cancel);\n",
              "  cancel.textContent = 'Cancel upload';\n",
              "  const cancelPromise = new Promise((resolve) => {\n",
              "    cancel.onclick = () => {\n",
              "      resolve(null);\n",
              "    };\n",
              "  });\n",
              "\n",
              "  // Wait for the user to pick the files.\n",
              "  const files = yield {\n",
              "    promise: Promise.race([pickedPromise, cancelPromise]),\n",
              "    response: {\n",
              "      action: 'starting',\n",
              "    }\n",
              "  };\n",
              "\n",
              "  cancel.remove();\n",
              "\n",
              "  // Disable the input element since further picks are not allowed.\n",
              "  inputElement.disabled = true;\n",
              "\n",
              "  if (!files) {\n",
              "    return {\n",
              "      response: {\n",
              "        action: 'complete',\n",
              "      }\n",
              "    };\n",
              "  }\n",
              "\n",
              "  for (const file of files) {\n",
              "    const li = document.createElement('li');\n",
              "    li.append(span(file.name, {fontWeight: 'bold'}));\n",
              "    li.append(span(\n",
              "        `(${file.type || 'n/a'}) - ${file.size} bytes, ` +\n",
              "        `last modified: ${\n",
              "            file.lastModifiedDate ? file.lastModifiedDate.toLocaleDateString() :\n",
              "                                    'n/a'} - `));\n",
              "    const percent = span('0% done');\n",
              "    li.appendChild(percent);\n",
              "\n",
              "    outputElement.appendChild(li);\n",
              "\n",
              "    const fileDataPromise = new Promise((resolve) => {\n",
              "      const reader = new FileReader();\n",
              "      reader.onload = (e) => {\n",
              "        resolve(e.target.result);\n",
              "      };\n",
              "      reader.readAsArrayBuffer(file);\n",
              "    });\n",
              "    // Wait for the data to be ready.\n",
              "    let fileData = yield {\n",
              "      promise: fileDataPromise,\n",
              "      response: {\n",
              "        action: 'continue',\n",
              "      }\n",
              "    };\n",
              "\n",
              "    // Use a chunked sending to avoid message size limits. See b/62115660.\n",
              "    let position = 0;\n",
              "    do {\n",
              "      const length = Math.min(fileData.byteLength - position, MAX_PAYLOAD_SIZE);\n",
              "      const chunk = new Uint8Array(fileData, position, length);\n",
              "      position += length;\n",
              "\n",
              "      const base64 = btoa(String.fromCharCode.apply(null, chunk));\n",
              "      yield {\n",
              "        response: {\n",
              "          action: 'append',\n",
              "          file: file.name,\n",
              "          data: base64,\n",
              "        },\n",
              "      };\n",
              "\n",
              "      let percentDone = fileData.byteLength === 0 ?\n",
              "          100 :\n",
              "          Math.round((position / fileData.byteLength) * 100);\n",
              "      percent.textContent = `${percentDone}% done`;\n",
              "\n",
              "    } while (position < fileData.byteLength);\n",
              "  }\n",
              "\n",
              "  // All done.\n",
              "  yield {\n",
              "    response: {\n",
              "      action: 'complete',\n",
              "    }\n",
              "  };\n",
              "}\n",
              "\n",
              "scope.google = scope.google || {};\n",
              "scope.google.colab = scope.google.colab || {};\n",
              "scope.google.colab._files = {\n",
              "  _uploadFiles,\n",
              "  _uploadFilesContinue,\n",
              "};\n",
              "})(self);\n",
              "</script> "
            ]
          },
          "metadata": {}
        },
        {
          "output_type": "stream",
          "name": "stdout",
          "text": [
            "Saving Frame00583-org.jpg to Frame00583-org.jpg\n",
            "Uploaded test image: /content/Frame00583-org.jpg\n"
          ]
        }
      ]
    },
    {
      "cell_type": "code",
      "source": [
        "test_image = preprocess_test_image(test_image_path)\n"
      ],
      "metadata": {
        "id": "gpsM0LZHqJkS"
      },
      "execution_count": 64,
      "outputs": []
    },
    {
      "cell_type": "markdown",
      "source": [
        "Step 5: Make Predictions"
      ],
      "metadata": {
        "id": "2jdSUayoqbzr"
      }
    },
    {
      "cell_type": "code",
      "source": [
        "# Predict using CNN model\n",
        "cnn_prediction = cnn_model.predict(test_image)\n",
        "cnn_predicted_label = np.argmax(cnn_prediction, axis=1)\n",
        "\n",
        "# Predict using HairNet model\n",
        "hairnet_prediction = hairnet_model.predict(test_image)\n",
        "hairnet_predicted_label = np.argmax(hairnet_prediction, axis=1)\n"
      ],
      "metadata": {
        "colab": {
          "base_uri": "https://localhost:8080/"
        },
        "id": "nzLCrU-Qqd-s",
        "outputId": "c8d5b5cc-110d-4fe3-c010-5b11b4b46286"
      },
      "execution_count": 65,
      "outputs": [
        {
          "output_type": "stream",
          "name": "stdout",
          "text": [
            "\u001b[1m1/1\u001b[0m \u001b[32m━━━━━━━━━━━━━━━━━━━━\u001b[0m\u001b[37m\u001b[0m \u001b[1m0s\u001b[0m 45ms/step\n",
            "\u001b[1m1/1\u001b[0m \u001b[32m━━━━━━━━━━━━━━━━━━━━\u001b[0m\u001b[37m\u001b[0m \u001b[1m0s\u001b[0m 37ms/step\n"
          ]
        }
      ]
    },
    {
      "cell_type": "markdown",
      "source": [
        "Step 6: Decode the Predictions"
      ],
      "metadata": {
        "id": "jVbGB76drPi5"
      }
    },
    {
      "cell_type": "code",
      "source": [
        "# Decode predictions\n",
        "# Convert the numerical predictions back to their respective class labels.\n",
        "cnn_predicted_class = label_encoder.inverse_transform(cnn_predicted_label)\n",
        "hairnet_predicted_class = label_encoder.inverse_transform(hairnet_predicted_label)\n",
        "\n",
        "print(f\"Predicted Hair Type (CNN): {cnn_predicted_class[0]}\")\n",
        "print(f\"Predicted Hair Type (HairNet): {hairnet_predicted_class[0]}\")\n"
      ],
      "metadata": {
        "colab": {
          "base_uri": "https://localhost:8080/"
        },
        "id": "iWGX9oYerSk9",
        "outputId": "8b47d2b2-86d1-4488-8a9e-ba72d83b9832"
      },
      "execution_count": 66,
      "outputs": [
        {
          "output_type": "stream",
          "name": "stdout",
          "text": [
            "Predicted Hair Type (CNN): kinky\n",
            "Predicted Hair Type (HairNet): wavy\n"
          ]
        }
      ]
    },
    {
      "cell_type": "markdown",
      "source": [
        "Step 7: Evaluate the Models on a Test Dataset"
      ],
      "metadata": {
        "id": "2mERpBLhraYz"
      }
    },
    {
      "cell_type": "code",
      "source": [
        "# Load test dataset (if preprocessed)\n",
        "test_images = np.load('/content/drive/MyDrive/test_images.npy')  # Replace with actual path\n",
        "test_labels = np.load('/content/drive/MyDrive/test_labels.npy')  # Replace with actual path\n",
        "\n",
        "# Evaluate CNN\n",
        "cnn_test_accuracy = cnn_model.evaluate(test_images, test_labels, verbose=0)[1]\n",
        "print(f\"CNN Model Test Accuracy: {cnn_test_accuracy * 100:.2f}%\")\n",
        "\n",
        "# Evaluate HairNet\n",
        "hairnet_test_accuracy = hairnet_model.evaluate(test_images, test_labels, verbose=0)[1]\n",
        "print(f\"HairNet Model Test Accuracy: {hairnet_test_accuracy * 100:.2f}%\")\n"
      ],
      "metadata": {
        "colab": {
          "base_uri": "https://localhost:8080/",
          "height": 349
        },
        "id": "xLeVm2_Vrhdv",
        "outputId": "51063979-3ff7-4446-bce9-36b384dc028c"
      },
      "execution_count": 67,
      "outputs": [
        {
          "output_type": "error",
          "ename": "FileNotFoundError",
          "evalue": "[Errno 2] No such file or directory: '/content/drive/MyDrive/test_images.npy'",
          "traceback": [
            "\u001b[0;31m---------------------------------------------------------------------------\u001b[0m",
            "\u001b[0;31mFileNotFoundError\u001b[0m                         Traceback (most recent call last)",
            "\u001b[0;32m<ipython-input-67-ff16c6453659>\u001b[0m in \u001b[0;36m<cell line: 0>\u001b[0;34m()\u001b[0m\n\u001b[1;32m      1\u001b[0m \u001b[0;31m# Load test dataset (if preprocessed)\u001b[0m\u001b[0;34m\u001b[0m\u001b[0;34m\u001b[0m\u001b[0m\n\u001b[0;32m----> 2\u001b[0;31m \u001b[0mtest_images\u001b[0m \u001b[0;34m=\u001b[0m \u001b[0mnp\u001b[0m\u001b[0;34m.\u001b[0m\u001b[0mload\u001b[0m\u001b[0;34m(\u001b[0m\u001b[0;34m'/content/drive/MyDrive/test_images.npy'\u001b[0m\u001b[0;34m)\u001b[0m  \u001b[0;31m# Replace with actual path\u001b[0m\u001b[0;34m\u001b[0m\u001b[0;34m\u001b[0m\u001b[0m\n\u001b[0m\u001b[1;32m      3\u001b[0m \u001b[0mtest_labels\u001b[0m \u001b[0;34m=\u001b[0m \u001b[0mnp\u001b[0m\u001b[0;34m.\u001b[0m\u001b[0mload\u001b[0m\u001b[0;34m(\u001b[0m\u001b[0;34m'/content/drive/MyDrive/test_labels.npy'\u001b[0m\u001b[0;34m)\u001b[0m  \u001b[0;31m# Replace with actual path\u001b[0m\u001b[0;34m\u001b[0m\u001b[0;34m\u001b[0m\u001b[0m\n\u001b[1;32m      4\u001b[0m \u001b[0;34m\u001b[0m\u001b[0m\n\u001b[1;32m      5\u001b[0m \u001b[0;31m# Evaluate CNN\u001b[0m\u001b[0;34m\u001b[0m\u001b[0;34m\u001b[0m\u001b[0m\n",
            "\u001b[0;32m/usr/local/lib/python3.11/dist-packages/numpy/lib/npyio.py\u001b[0m in \u001b[0;36mload\u001b[0;34m(file, mmap_mode, allow_pickle, fix_imports, encoding, max_header_size)\u001b[0m\n\u001b[1;32m    425\u001b[0m             \u001b[0mown_fid\u001b[0m \u001b[0;34m=\u001b[0m \u001b[0;32mFalse\u001b[0m\u001b[0;34m\u001b[0m\u001b[0;34m\u001b[0m\u001b[0m\n\u001b[1;32m    426\u001b[0m         \u001b[0;32melse\u001b[0m\u001b[0;34m:\u001b[0m\u001b[0;34m\u001b[0m\u001b[0;34m\u001b[0m\u001b[0m\n\u001b[0;32m--> 427\u001b[0;31m             \u001b[0mfid\u001b[0m \u001b[0;34m=\u001b[0m \u001b[0mstack\u001b[0m\u001b[0;34m.\u001b[0m\u001b[0menter_context\u001b[0m\u001b[0;34m(\u001b[0m\u001b[0mopen\u001b[0m\u001b[0;34m(\u001b[0m\u001b[0mos_fspath\u001b[0m\u001b[0;34m(\u001b[0m\u001b[0mfile\u001b[0m\u001b[0;34m)\u001b[0m\u001b[0;34m,\u001b[0m \u001b[0;34m\"rb\"\u001b[0m\u001b[0;34m)\u001b[0m\u001b[0;34m)\u001b[0m\u001b[0;34m\u001b[0m\u001b[0;34m\u001b[0m\u001b[0m\n\u001b[0m\u001b[1;32m    428\u001b[0m             \u001b[0mown_fid\u001b[0m \u001b[0;34m=\u001b[0m \u001b[0;32mTrue\u001b[0m\u001b[0;34m\u001b[0m\u001b[0;34m\u001b[0m\u001b[0m\n\u001b[1;32m    429\u001b[0m \u001b[0;34m\u001b[0m\u001b[0m\n",
            "\u001b[0;31mFileNotFoundError\u001b[0m: [Errno 2] No such file or directory: '/content/drive/MyDrive/test_images.npy'"
          ]
        }
      ]
    }
  ]
}